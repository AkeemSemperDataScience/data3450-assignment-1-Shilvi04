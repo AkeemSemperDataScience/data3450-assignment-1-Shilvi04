{
 "cells": [
  {
   "cell_type": "markdown",
   "id": "7b343be4",
   "metadata": {},
   "source": [
    "# Assignment #1 - Basic Data Exploration, Visualization, and Analysis\n",
    "\n",
    "## Assignment Overview\n",
    "\n",
    "In this assignment you'll load some data into a python notebook, and use some basic functions to do some basic analysis. Each section asks you to either calculate some answers or explore some information found in the data. When generating your answers, try to think about a few factors that can make your code better:\n",
    "<ul>\n",
    "<li> Present the answers clearly. Use the markdown cells, code comments, and formatting to help make your answers readable. One of the features of notebooks is that they allow us to combine code and commentary, and we need to ensure both are readable. Refer to the guide in the guides folder of the exercises workbook for an explaination and examples of different formatting. \n",
    "<li> Make your code clear. It is easy to make sense of small pieces of code, for short periods of time, so if your code makes little sense here, it won't really hurt your ability to find the answers. If you need to come back to it later, or others need to edit it, having code that doesn't make sense is a big issue. Use things like clearly named variables, comments, and spacing to make things readable. Even in this course, if you are looking back to something from 2 months ago for the project, it is far easier to understand code that is cleaned up a little. \n",
    "<li> Structure the code well. If there is some kind of repetitive task, it should likely be moved into a function. If there is something that happens several times, it should be in a loop. Having well structured code makes it easy to reuse stuff later, understand how things work, debug errors, and share code with others. This is something to keep in the back of your minds, right now you may not have much experience to lean on to judge how things should be, as you read, adjust, and write code it will become more clear. \n",
    "</ul>\n",
    "\n",
    "## Grading\n",
    "\n",
    "This assignment will be graded in two portions:\n",
    "<ul>\n",
    "<li> 50% - Correctness and functionality. Parts of the assignment (the functions you are asked to write) will be graded on whether they work correctly and generate correct answers. </li>\n",
    "<li> 50% -Analysis and presentation. Parts of the assignment (the markdown cells you are asked to fill in) will be graded on whether they present the answers clearly, and whether the analysis is correct. </li>\n",
    "</ul>"
   ]
  },
  {
   "cell_type": "markdown",
   "id": "abe560b3",
   "metadata": {},
   "source": [
    "## Load Data"
   ]
  },
  {
   "cell_type": "code",
   "execution_count": 69,
   "id": "dddd213b",
   "metadata": {},
   "outputs": [
    {
     "data": {
      "text/html": [
       "<div>\n",
       "<style scoped>\n",
       "    .dataframe tbody tr th:only-of-type {\n",
       "        vertical-align: middle;\n",
       "    }\n",
       "\n",
       "    .dataframe tbody tr th {\n",
       "        vertical-align: top;\n",
       "    }\n",
       "\n",
       "    .dataframe thead th {\n",
       "        text-align: right;\n",
       "    }\n",
       "</style>\n",
       "<table border=\"1\" class=\"dataframe\">\n",
       "  <thead>\n",
       "    <tr style=\"text-align: right;\">\n",
       "      <th></th>\n",
       "      <th>Age</th>\n",
       "      <th>Eduacation</th>\n",
       "      <th>Race</th>\n",
       "      <th>Hisp</th>\n",
       "      <th>MaritalStatus</th>\n",
       "      <th>Nodeg</th>\n",
       "      <th>Earnings_1974</th>\n",
       "      <th>Earnings_1975</th>\n",
       "      <th>Earnings_1978</th>\n",
       "    </tr>\n",
       "  </thead>\n",
       "  <tbody>\n",
       "    <tr>\n",
       "      <th>0</th>\n",
       "      <td>45</td>\n",
       "      <td>LessThanHighSchool</td>\n",
       "      <td>NotBlack</td>\n",
       "      <td>NotHispanic</td>\n",
       "      <td>Married</td>\n",
       "      <td>1</td>\n",
       "      <td>21516.670</td>\n",
       "      <td>25243.550</td>\n",
       "      <td>25564.670</td>\n",
       "    </tr>\n",
       "    <tr>\n",
       "      <th>1</th>\n",
       "      <td>21</td>\n",
       "      <td>Intermediate</td>\n",
       "      <td>NotBlack</td>\n",
       "      <td>NotHispanic</td>\n",
       "      <td>NotMarried</td>\n",
       "      <td>0</td>\n",
       "      <td>3175.971</td>\n",
       "      <td>5852.565</td>\n",
       "      <td>13496.080</td>\n",
       "    </tr>\n",
       "    <tr>\n",
       "      <th>2</th>\n",
       "      <td>38</td>\n",
       "      <td>HighSchool</td>\n",
       "      <td>NotBlack</td>\n",
       "      <td>NotHispanic</td>\n",
       "      <td>Married</td>\n",
       "      <td>0</td>\n",
       "      <td>23039.020</td>\n",
       "      <td>25130.760</td>\n",
       "      <td>25564.670</td>\n",
       "    </tr>\n",
       "    <tr>\n",
       "      <th>3</th>\n",
       "      <td>48</td>\n",
       "      <td>LessThanHighSchool</td>\n",
       "      <td>NotBlack</td>\n",
       "      <td>NotHispanic</td>\n",
       "      <td>Married</td>\n",
       "      <td>1</td>\n",
       "      <td>24994.370</td>\n",
       "      <td>25243.550</td>\n",
       "      <td>25564.670</td>\n",
       "    </tr>\n",
       "    <tr>\n",
       "      <th>4</th>\n",
       "      <td>18</td>\n",
       "      <td>LessThanHighSchool</td>\n",
       "      <td>NotBlack</td>\n",
       "      <td>NotHispanic</td>\n",
       "      <td>Married</td>\n",
       "      <td>1</td>\n",
       "      <td>1669.295</td>\n",
       "      <td>10727.610</td>\n",
       "      <td>9860.869</td>\n",
       "    </tr>\n",
       "  </tbody>\n",
       "</table>\n",
       "</div>"
      ],
      "text/plain": [
       "   Age          Eduacation      Race         Hisp MaritalStatus  Nodeg  \\\n",
       "0   45  LessThanHighSchool  NotBlack  NotHispanic       Married      1   \n",
       "1   21        Intermediate  NotBlack  NotHispanic    NotMarried      0   \n",
       "2   38          HighSchool  NotBlack  NotHispanic       Married      0   \n",
       "3   48  LessThanHighSchool  NotBlack  NotHispanic       Married      1   \n",
       "4   18  LessThanHighSchool  NotBlack  NotHispanic       Married      1   \n",
       "\n",
       "   Earnings_1974  Earnings_1975  Earnings_1978  \n",
       "0      21516.670      25243.550      25564.670  \n",
       "1       3175.971       5852.565      13496.080  \n",
       "2      23039.020      25130.760      25564.670  \n",
       "3      24994.370      25243.550      25564.670  \n",
       "4       1669.295      10727.610       9860.869  "
      ]
     },
     "execution_count": 69,
     "metadata": {},
     "output_type": "execute_result"
    }
   ],
   "source": [
    "import pandas as pd\n",
    "import numpy as np\n",
    "import seaborn as sns\n",
    "from asn1_function_sheet import age_splitter\n",
    "import matplotlib.pyplot as plt\n",
    "\n",
    "try:\n",
    "    df = pd.read_csv(\"LabourTrainingEvaluationData.csv\")\n",
    "except FileNotFoundError:\n",
    "    df = pd.read_csv(\"../data/LabourTrainingEvaluationData.csv\")\n",
    "df[\"Nodeg\"].astype('category', copy=False)\n",
    "df.head()"
   ]
  },
  {
   "cell_type": "code",
   "execution_count": 70,
   "id": "7c54e427",
   "metadata": {},
   "outputs": [
    {
     "data": {
      "text/html": [
       "<div>\n",
       "<style scoped>\n",
       "    .dataframe tbody tr th:only-of-type {\n",
       "        vertical-align: middle;\n",
       "    }\n",
       "\n",
       "    .dataframe tbody tr th {\n",
       "        vertical-align: top;\n",
       "    }\n",
       "\n",
       "    .dataframe thead th {\n",
       "        text-align: right;\n",
       "    }\n",
       "</style>\n",
       "<table border=\"1\" class=\"dataframe\">\n",
       "  <thead>\n",
       "    <tr style=\"text-align: right;\">\n",
       "      <th></th>\n",
       "      <th>Age</th>\n",
       "      <th>Nodeg</th>\n",
       "      <th>Earnings_1974</th>\n",
       "      <th>Earnings_1975</th>\n",
       "      <th>Earnings_1978</th>\n",
       "    </tr>\n",
       "  </thead>\n",
       "  <tbody>\n",
       "    <tr>\n",
       "      <th>count</th>\n",
       "      <td>15992.000000</td>\n",
       "      <td>15992.000000</td>\n",
       "      <td>15992.000000</td>\n",
       "      <td>15992.000000</td>\n",
       "      <td>15992.000000</td>\n",
       "    </tr>\n",
       "    <tr>\n",
       "      <th>mean</th>\n",
       "      <td>33.225238</td>\n",
       "      <td>0.295835</td>\n",
       "      <td>14016.800304</td>\n",
       "      <td>13650.803376</td>\n",
       "      <td>14846.659673</td>\n",
       "    </tr>\n",
       "    <tr>\n",
       "      <th>std</th>\n",
       "      <td>11.045216</td>\n",
       "      <td>0.456432</td>\n",
       "      <td>9569.795893</td>\n",
       "      <td>9270.403225</td>\n",
       "      <td>9647.391524</td>\n",
       "    </tr>\n",
       "    <tr>\n",
       "      <th>min</th>\n",
       "      <td>16.000000</td>\n",
       "      <td>0.000000</td>\n",
       "      <td>0.000000</td>\n",
       "      <td>0.000000</td>\n",
       "      <td>0.000000</td>\n",
       "    </tr>\n",
       "    <tr>\n",
       "      <th>25%</th>\n",
       "      <td>24.000000</td>\n",
       "      <td>0.000000</td>\n",
       "      <td>4403.452250</td>\n",
       "      <td>4398.823000</td>\n",
       "      <td>5669.298000</td>\n",
       "    </tr>\n",
       "    <tr>\n",
       "      <th>50%</th>\n",
       "      <td>31.000000</td>\n",
       "      <td>0.000000</td>\n",
       "      <td>15123.580000</td>\n",
       "      <td>14557.110000</td>\n",
       "      <td>16421.975000</td>\n",
       "    </tr>\n",
       "    <tr>\n",
       "      <th>75%</th>\n",
       "      <td>42.000000</td>\n",
       "      <td>1.000000</td>\n",
       "      <td>23584.180000</td>\n",
       "      <td>22923.737500</td>\n",
       "      <td>25564.670000</td>\n",
       "    </tr>\n",
       "    <tr>\n",
       "      <th>max</th>\n",
       "      <td>55.000000</td>\n",
       "      <td>1.000000</td>\n",
       "      <td>25862.320000</td>\n",
       "      <td>25243.550000</td>\n",
       "      <td>25564.670000</td>\n",
       "    </tr>\n",
       "  </tbody>\n",
       "</table>\n",
       "</div>"
      ],
      "text/plain": [
       "                Age         Nodeg  Earnings_1974  Earnings_1975  Earnings_1978\n",
       "count  15992.000000  15992.000000   15992.000000   15992.000000   15992.000000\n",
       "mean      33.225238      0.295835   14016.800304   13650.803376   14846.659673\n",
       "std       11.045216      0.456432    9569.795893    9270.403225    9647.391524\n",
       "min       16.000000      0.000000       0.000000       0.000000       0.000000\n",
       "25%       24.000000      0.000000    4403.452250    4398.823000    5669.298000\n",
       "50%       31.000000      0.000000   15123.580000   14557.110000   16421.975000\n",
       "75%       42.000000      1.000000   23584.180000   22923.737500   25564.670000\n",
       "max       55.000000      1.000000   25862.320000   25243.550000   25564.670000"
      ]
     },
     "execution_count": 70,
     "metadata": {},
     "output_type": "execute_result"
    }
   ],
   "source": [
    "df.describe()"
   ]
  },
  {
   "cell_type": "code",
   "execution_count": 71,
   "id": "082244d6",
   "metadata": {},
   "outputs": [
    {
     "name": "stdout",
     "output_type": "stream",
     "text": [
      "<class 'pandas.core.frame.DataFrame'>\n",
      "RangeIndex: 15992 entries, 0 to 15991\n",
      "Data columns (total 9 columns):\n",
      " #   Column         Non-Null Count  Dtype  \n",
      "---  ------         --------------  -----  \n",
      " 0   Age            15992 non-null  int64  \n",
      " 1   Eduacation     15992 non-null  object \n",
      " 2   Race           15992 non-null  object \n",
      " 3   Hisp           15992 non-null  object \n",
      " 4   MaritalStatus  15992 non-null  object \n",
      " 5   Nodeg          15992 non-null  int64  \n",
      " 6   Earnings_1974  15992 non-null  float64\n",
      " 7   Earnings_1975  15992 non-null  float64\n",
      " 8   Earnings_1978  15992 non-null  float64\n",
      "dtypes: float64(3), int64(2), object(4)\n",
      "memory usage: 1.1+ MB\n"
     ]
    }
   ],
   "source": [
    "df.info()"
   ]
  },
  {
   "cell_type": "markdown",
   "id": "9a8cc380",
   "metadata": {},
   "source": [
    "### Part 1\n",
    "\n",
    "<ol>\n",
    "<li> Create a function called age_splitter that takes a dataframe, a column name, and an age threshold as input. The function should return two dataframes, one with all the rows where the age in the specified column is below the threshold, and one with all the rows where the age in the specified column is above or equal to the threshold. </li>\n",
    "<li> Use this function to calculate the percentage of people in the dataset that are below 30 years old. </li>\n",
    "<li> Use this function to compare the 1978 earnings of the two groups to see which is larger - show this arithmatically as well as visually. </li>\n",
    "</ol>"
   ]
  },
  {
   "cell_type": "markdown",
   "id": "5b002b32",
   "metadata": {},
   "source": [
    "#### Prob 01: Demo of Function."
   ]
  },
  {
   "cell_type": "code",
   "execution_count": 108,
   "id": "2093ad00",
   "metadata": {},
   "outputs": [
    {
     "name": "stdout",
     "output_type": "stream",
     "text": [
      "below_30_df :         Age          Eduacation      Race         Hisp MaritalStatus  Nodeg  \\\n",
      "1       21        Intermediate  NotBlack  NotHispanic    NotMarried      0   \n",
      "4       18  LessThanHighSchool  NotBlack  NotHispanic       Married      1   \n",
      "5       22  LessThanHighSchool  NotBlack  NotHispanic       Married      1   \n",
      "7       18  LessThanHighSchool  NotBlack  NotHispanic    NotMarried      1   \n",
      "11      16  LessThanHighSchool  NotBlack  NotHispanic    NotMarried      1   \n",
      "...    ...                 ...       ...          ...           ...    ...   \n",
      "15981   22        Intermediate  NotBlack     hispanic    NotMarried      0   \n",
      "15982   27        Intermediate  NotBlack  NotHispanic       Married      0   \n",
      "15985   27          HighSchool  NotBlack  NotHispanic       Married      0   \n",
      "15987   22          HighSchool     black  NotHispanic    NotMarried      0   \n",
      "15988   20          HighSchool     black  NotHispanic       Married      0   \n",
      "\n",
      "       Earnings_1974  Earnings_1975  Earnings_1978  \n",
      "1           3175.971       5852.565      13496.080  \n",
      "4           1669.295      10727.610       9860.869  \n",
      "5          16365.760      18449.270      25564.670  \n",
      "7           1144.212       3620.032      15739.270  \n",
      "11          1026.656       1224.581       6847.785  \n",
      "...              ...            ...            ...  \n",
      "15981       7684.244       5281.452       6014.347  \n",
      "15982      25507.690      25243.550      25564.670  \n",
      "15985          0.000      25243.550       4223.343  \n",
      "15987       3975.352       6801.435       2757.438  \n",
      "15988       1445.939      11832.240       6895.072  \n",
      "\n",
      "[7152 rows x 9 columns]\n",
      "above_or_equal_30_df :         Age          Eduacation      Race         Hisp MaritalStatus  Nodeg  \\\n",
      "0       45  LessThanHighSchool  NotBlack  NotHispanic       Married      1   \n",
      "2       38          HighSchool  NotBlack  NotHispanic       Married      0   \n",
      "3       48  LessThanHighSchool  NotBlack  NotHispanic       Married      1   \n",
      "6       48  LessThanHighSchool  NotBlack  NotHispanic       Married      1   \n",
      "8       48  LessThanHighSchool  NotBlack  NotHispanic       Married      1   \n",
      "...    ...                 ...       ...          ...           ...    ...   \n",
      "15984   48  LessThanHighSchool  NotBlack  NotHispanic       Married      1   \n",
      "15986   35          HighSchool  NotBlack  NotHispanic       Married      0   \n",
      "15989   37          HighSchool  NotBlack  NotHispanic    NotMarried      0   \n",
      "15990   47  LessThanHighSchool  NotBlack  NotHispanic       Married      1   \n",
      "15991   40  LessThanHighSchool  NotBlack  NotHispanic    NotMarried      1   \n",
      "\n",
      "       Earnings_1974  Earnings_1975  Earnings_1978  \n",
      "0          21516.670      25243.550      25564.670  \n",
      "2          23039.020      25130.760      25564.670  \n",
      "3          24994.370      25243.550      25564.670  \n",
      "6          16804.630      16354.600      18059.300  \n",
      "8          25862.320      25243.550      25564.670  \n",
      "...              ...            ...            ...  \n",
      "15984      25862.320      25243.550      25564.670  \n",
      "15986          0.000          0.000          0.000  \n",
      "15989       1733.951       1559.371       4221.865  \n",
      "15990      16914.350      11384.660      13671.930  \n",
      "15991      13628.660      13144.550       7979.724  \n",
      "\n",
      "[8840 rows x 9 columns]\n"
     ]
    }
   ],
   "source": [
    "below_30_df, above_or_equal_30_df = age_splitter(df, 'Age', 30)\n",
    "print('below_30_df : ',below_30_df)\n",
    "print('above_or_equal_30_df : ',above_or_equal_30_df)"
   ]
  },
  {
   "cell_type": "markdown",
   "id": "a12e1acf",
   "metadata": {},
   "source": [
    "#### Prob 2: Use this function to calculate the percentage under 30. "
   ]
  },
  {
   "cell_type": "code",
   "execution_count": 110,
   "id": "a037dbf4",
   "metadata": {},
   "outputs": [
    {
     "name": "stdout",
     "output_type": "stream",
     "text": [
      "Percentage of below 30: 44.7223611805903%\n"
     ]
    }
   ],
   "source": [
    "total_people = len(df)\n",
    "below_30_count = len(below_30_df)\n",
    "percentage_under_30 = (below_30_count / total_people) * 100\n",
    "print(f'Percentage of below 30: {percentage_under_30:}%')"
   ]
  },
  {
   "cell_type": "markdown",
   "id": "bf375514",
   "metadata": {},
   "source": [
    "#### Prob 03: 1978 Earnings Comparison - arithmatically"
   ]
  },
  {
   "cell_type": "code",
   "execution_count": 111,
   "id": "cca21f7d",
   "metadata": {},
   "outputs": [
    {
     "name": "stdout",
     "output_type": "stream",
     "text": [
      "Average 1978 earnings below 30 : 13032.687089525025\n",
      "Average 1978 earnings 30 or above : 16314.253781091627\n",
      "People 30 or above earned more on average in 1978.\n"
     ]
    }
   ],
   "source": [
    "avg_earnings_below_30 = below_30_df['Earnings_1978'].mean()\n",
    "avg_earnings_above_30 = above_or_equal_30_df['Earnings_1978'].mean()\n",
    "\n",
    "print(\"Average 1978 earnings below 30 :\",avg_earnings_below_30)\n",
    "print(\"Average 1978 earnings 30 or above :\",avg_earnings_above_30)\n",
    "\n",
    "if avg_earnings_below_30 > avg_earnings_above_30 :\n",
    "    print('People below 30 earned more on average in 1978.')\n",
    "else:\n",
    "    print('People 30 or above earned more on average in 1978.')"
   ]
  },
  {
   "cell_type": "markdown",
   "id": "9fe8aaf8",
   "metadata": {},
   "source": [
    "#### Prob 03: 1978 Earnings Comparison - visually"
   ]
  },
  {
   "cell_type": "code",
   "execution_count": 139,
   "id": "a491cbb4",
   "metadata": {},
   "outputs": [
    {
     "name": "stdout",
     "output_type": "stream",
     "text": [
      "Index(['Age', 'Eduacation', 'Race', 'Hisp', 'MaritalStatus', 'Nodeg',\n",
      "       'Earnings_1974', 'Earnings_1975', 'Earnings_1978'],\n",
      "      dtype='object')\n"
     ]
    }
   ],
   "source": [
    "print(df.columns)"
   ]
  },
  {
   "cell_type": "code",
   "execution_count": 148,
   "id": "88cb062c",
   "metadata": {},
   "outputs": [
    {
     "data": {
      "image/png": "[encoded data removed]",
      "text/plain": [
       "<Figure size 640x480 with 1 Axes>"
      ]
     },
     "metadata": {},
     "output_type": "display_data"
    }
   ],
   "source": [
    "import numpy as np\n",
    "import seaborn as sns\n",
    "import matplotlib.pyplot as plt\n",
    "\n",
    "age_col = 'Age'\n",
    "Earnings_1978 = 'Earnings_1978'\n",
    "\n",
    "below_30_df = df[df[age_col] <30].copy()\n",
    "above_or_equal_30_df = df[df[age_col] >=30].copy()\n",
    "\n",
    "below_30_df['group'] = '<30'\n",
    "above_or_equal_30_df['group'] = '>=30'\n",
    "\n",
    "combined_df = pd.concat([below_30_df, above_or_equal_30_df])\n",
    "\n",
    "combined_df['log_Earnings_1978'] = np.log1p(combined_df['Earnings_1978'])\n",
    "\n",
    "sns.histplot(\n",
    "    data=combined_df, \n",
    "    x='log_Earnings_1978', \n",
    "    hue='group',\n",
    "    bins=30,\n",
    "    kde=True, \n",
    "    element='step',\n",
    "    stat='density'\n",
    ")\n",
    "\n",
    "plt.title('1978 Earnings by age group')\n",
    "plt.xlabel('Earnings in 1978')\n",
    "plt.ylabel('Density')\n",
    "plt.grid(True)\n",
    "plt.show()"
   ]
  },
  {
   "cell_type": "markdown",
   "id": "ae8751ed",
   "metadata": {},
   "source": [
    "### Part 2\n",
    "\n",
    "<ol>\n",
    "<li>Create a function in the .py file called cohortCompare that takes two arguments - a dataframe and a list of categorical column names. The function should return a dictonary of the key statistics of each numerical columns and counts for categorical columns.</li>\n",
    "    <ul>\n",
    "    <li> Mean, Median, Standard Deviation, Min, Max for numerical columns </li>\n",
    "    <li> Counts for categorical columns </li>\n",
    "    <li><b>Note:</b> Please use the CohortMetric object to store and manage the statistics for each cohort.</li>\n",
    "    </ul>\n",
    "<li> Does this data, at a high level, appear to be representative of the general population of the US in the late 70s? Does it now? Why or why not? </li>\n",
    "    <ul>\n",
    "    <li> This does not need to be a long answer or done in increadable depth. This question will generate some demographic profiles of people in the data - does that appear to be similar to the US population at the time? </li>\n",
    "    <li> Please state how you assessd this. (There isn't one correct answer, the process is more important than the answer) </li>\n",
    "    </ul>\n",
    "<li>Print the dictionary returned in a nice-ish way. (Don't go crazy, basic formatting)</li>\n",
    "</ol>"
   ]
  },
  {
   "cell_type": "markdown",
   "id": "907c5566",
   "metadata": {},
   "source": [
    "#### Prob 01: Demo of Function."
   ]
  },
  {
   "cell_type": "code",
   "execution_count": 209,
   "id": "3ee31287",
   "metadata": {},
   "outputs": [],
   "source": [
    "def cohortCompare(df: pd.DataFrame, categorical_cols: list) -> dict:\n",
    "    result = {}\n",
    "\n",
    "    for col in df.columns:\n",
    "\n",
    "        if col in categorical_cols:\n",
    "            result[col] = df[col].value_counts().to_dict()\n",
    "        elif pd.api.types.is_numeric_dtype(df[col]):\n",
    "            # Numerical column: create CohortMetric\n",
    "            metric = CohortMetric(cohort_name=col)\n",
    "            metric.setMean(df[col])\n",
    "            metric.setMedian(df[col])\n",
    "            metric.setStd(df[col])\n",
    "            metric.setMin(df[col])\n",
    "            metric.setMax(df[col])\n",
    "            result[col] = metric\n",
    "        else:\n",
    "            # Skip non-categorical, non-numerical columns\n",
    "            continue\n",
    "        \n",
    "\n",
    "    return result"
   ]
  },
  {
   "cell_type": "code",
   "execution_count": 193,
   "id": "d412f2c7",
   "metadata": {},
   "outputs": [
    {
     "ename": "NameError",
     "evalue": "name 'group1' is not defined",
     "output_type": "error",
     "traceback": [
      "\u001b[1;31m---------------------------------------------------------------------------\u001b[0m",
      "\u001b[1;31mNameError\u001b[0m                                 Traceback (most recent call last)",
      "Cell \u001b[1;32mIn[193], line 5\u001b[0m\n\u001b[0;32m      2\u001b[0m \u001b[38;5;28;01mfrom\u001b[39;00m\u001b[38;5;250m \u001b[39m\u001b[38;5;21;01masn1_function_sheet\u001b[39;00m\u001b[38;5;250m \u001b[39m\u001b[38;5;28;01mimport\u001b[39;00m CohortMetric, cohortCompare, cohenEffectSize\n\u001b[0;32m      4\u001b[0m     \u001b[38;5;66;03m# Convert to numpy arrays and drop NaNs\u001b[39;00m\n\u001b[1;32m----> 5\u001b[0m group1 \u001b[38;5;241m=\u001b[39m np\u001b[38;5;241m.\u001b[39marray(group1)\u001b[38;5;241m.\u001b[39mastype(\u001b[38;5;28mfloat\u001b[39m)\n\u001b[0;32m      6\u001b[0m group2 \u001b[38;5;241m=\u001b[39m np\u001b[38;5;241m.\u001b[39marray(group2)\u001b[38;5;241m.\u001b[39mastype(\u001b[38;5;28mfloat\u001b[39m)\n\u001b[0;32m      8\u001b[0m group1 \u001b[38;5;241m=\u001b[39m group1[\u001b[38;5;241m~\u001b[39mnp\u001b[38;5;241m.\u001b[39misnan(group1)]\n",
      "\u001b[1;31mNameError\u001b[0m: name 'group1' is not defined"
     ]
    }
   ],
   "source": [
    "import numpy as np\n",
    "from asn1_function_sheet import CohortMetric, cohortCompare, cohenEffectSize\n",
    "\n",
    "    # Convert to numpy arrays and drop NaNs\n",
    "group1 = np.array(group1).astype(float)\n",
    "group2 = np.array(group2).astype(float)\n",
    "\n",
    "group1 = group1[~np.isnan(group1)]\n",
    "group2 = group2[~np.isnan(group2)]\n",
    "\n",
    "    # Means and standard deviations\n",
    "mean1, mean2 = np.mean(group1), np.mean(group2)\n",
    "std1, std2 = np.std(group1, ddof=1), np.std(group2, ddof=1)\n",
    "\n",
    "    # Pooled standard deviation\n",
    "pooled_std = np.sqrt((std1**2 + std2**2) / 2)\n",
    "\n",
    "    # Cohen's d\n",
    "if pooled_std == 0:\n",
    "    return 0.0\n",
    "\n",
    "    return (mean1 - mean2) / pooled_std"
   ]
  },
  {
   "cell_type": "code",
   "execution_count": 156,
   "id": "30f485ed",
   "metadata": {},
   "outputs": [
    {
     "ename": "UnboundLocalError",
     "evalue": "cannot access local variable 'cat_columns' where it is not associated with a value",
     "output_type": "error",
     "traceback": [
      "\u001b[1;31m---------------------------------------------------------------------------\u001b[0m",
      "\u001b[1;31mUnboundLocalError\u001b[0m                         Traceback (most recent call last)",
      "Cell \u001b[1;32mIn[156], line 22\u001b[0m\n\u001b[0;32m     19\u001b[0m     \u001b[38;5;28;01mreturn\u001b[39;00m{\u001b[38;5;124m'\u001b[39m\u001b[38;5;124mFull Dataset\u001b[39m\u001b[38;5;124m'\u001b[39m: metrics}\n\u001b[0;32m     20\u001b[0m cat_cols \u001b[38;5;241m=\u001b[39m df\u001b[38;5;241m.\u001b[39mselect_dtypes(include\u001b[38;5;241m=\u001b[39m\u001b[38;5;124m'\u001b[39m\u001b[38;5;124mobject\u001b[39m\u001b[38;5;124m'\u001b[39m)\u001b[38;5;241m.\u001b[39mcolumns\u001b[38;5;241m.\u001b[39mtolist()\n\u001b[1;32m---> 22\u001b[0m results \u001b[38;5;241m=\u001b[39m cohortCompare(df, cat_cols)\n\u001b[0;32m     24\u001b[0m \u001b[38;5;28mprint\u001b[39m(results[\u001b[38;5;124m'\u001b[39m\u001b[38;5;124mFull Dataset\u001b[39m\u001b[38;5;124m'\u001b[39m])\n",
      "Cell \u001b[1;32mIn[156], line 11\u001b[0m, in \u001b[0;36mcohortCompare\u001b[1;34m(df, cohorts, statistics)\u001b[0m\n\u001b[0;32m      8\u001b[0m metrics \u001b[38;5;241m=\u001b[39m CohortMetric(\u001b[38;5;124m'\u001b[39m\u001b[38;5;124mFull Dataset\u001b[39m\u001b[38;5;124m'\u001b[39m)\n\u001b[0;32m     10\u001b[0m num_columns \u001b[38;5;241m=\u001b[39m df\u001b[38;5;241m.\u001b[39mselect_dtypes(include\u001b[38;5;241m=\u001b[39m\u001b[38;5;124m'\u001b[39m\u001b[38;5;124mnumber\u001b[39m\u001b[38;5;124m'\u001b[39m)\u001b[38;5;241m.\u001b[39mcolumns\n\u001b[1;32m---> 11\u001b[0m cat_columns \u001b[38;5;241m=\u001b[39m [col \u001b[38;5;28;01mfor\u001b[39;00m col \u001b[38;5;129;01min\u001b[39;00m cat_columns \u001b[38;5;28;01mif\u001b[39;00m col \u001b[38;5;129;01min\u001b[39;00m df\u001b[38;5;241m.\u001b[39mcolumns]\n\u001b[0;32m     13\u001b[0m \u001b[38;5;28;01mfor\u001b[39;00m col \u001b[38;5;129;01min\u001b[39;00m num_columns:\n\u001b[0;32m     14\u001b[0m     metrics\u001b[38;5;241m.\u001b[39madd_numerical_stats(col, df[col])\n",
      "\u001b[1;31mUnboundLocalError\u001b[0m: cannot access local variable 'cat_columns' where it is not associated with a value"
     ]
    }
   ],
   "source": [
    "# 1 - Demo of function\n",
    "from asn1_function_sheet import CohortMetric, cohortCompare\n",
    "def cohortCompare(df, cohorts, statistics=['mean', 'median', 'std', 'min', 'max']):\n",
    "    \"\"\"\n",
    "    This function takes a dataframe and a list of cohort column names, and returns a dictionary\n",
    "    where each key is a cohort name and each value is an object containing the specified statistics\n",
    "    \"\"\"\n",
    "    metrics = CohortMetric('Full Dataset')\n",
    "\n",
    "    num_columns = df.select_dtypes(include='number').columns\n",
    "    cat_columns = [col for col in cat_columns if col in df.columns]\n",
    "\n",
    "    for col in num_columns:\n",
    "        metrics.add_numerical_stats(col, df[col])\n",
    "\n",
    "    for col in cat_columns:\n",
    "        metrics.add_categorical_counts(col,df[col])\n",
    "\n",
    "    return{'Full Dataset': metrics}\n",
    "cat_cols = df.select_dtypes(include='object').columns.tolist()\n",
    "\n",
    "results = cohortCompare(df, cat_cols)\n",
    "\n",
    "print(results['Full Dataset'])"
   ]
  },
  {
   "cell_type": "markdown",
   "id": "1840283a",
   "metadata": {},
   "source": [
    "#### Prob 02: Comparison"
   ]
  },
  {
   "cell_type": "code",
   "execution_count": null,
   "id": "a7663d64",
   "metadata": {},
   "outputs": [],
   "source": [
    "# 2 - Comparison (you could also use a markdown cell for this!!!)\n"
   ]
  },
  {
   "cell_type": "markdown",
   "id": "195005c2",
   "metadata": {},
   "source": [
    "### Part 3\n",
    "\n",
    "<ol>\n",
    "<li> Create a function in the .py file called effectSizer that takes in a dataframe, a numerical column name, a column name of a categorical value that is binary (two values only), and returns a dictionary of the categorical classes and their corresponding effect sizes on the numerical value. </li>\n",
    "<li> For 1978, which of Race, Hisp, MaritalStatus have the largest effect size. (Use Yes/True/1 for x1)</li>\n",
    "</ol>"
   ]
  },
  {
   "cell_type": "markdown",
   "id": "1be33f91",
   "metadata": {},
   "source": [
    "#### Prob 01: Demo of Function"
   ]
  },
  {
   "cell_type": "code",
   "execution_count": 199,
   "id": "0056f67a",
   "metadata": {},
   "outputs": [
    {
     "name": "stdout",
     "output_type": "stream",
     "text": [
      "None\n"
     ]
    }
   ],
   "source": [
    "from asn1_function_sheet import effectSizer\n",
    "df = pd.read_csv(\"labourTrainingEvaluationData.csv\")\n",
    "result = effectSizer(df, \"Earnings_1978\", \"Hisp\")\n",
    "print(result)"
   ]
  },
  {
   "cell_type": "markdown",
   "id": "e8ccd3b2",
   "metadata": {},
   "source": [
    "#### Prob 02: For 1978, which of Race, Hisp, MaritalStatus have the largest effect size. (Use Yes/True/1 for x1)"
   ]
  },
  {
   "cell_type": "code",
   "execution_count": 206,
   "id": "9faba7f1",
   "metadata": {},
   "outputs": [
    {
     "ename": "SyntaxError",
     "evalue": "'return' outside function (1777272349.py, line 21)",
     "output_type": "error",
     "traceback": [
      "\u001b[1;36m  Cell \u001b[1;32mIn[206], line 21\u001b[1;36m\u001b[0m\n\u001b[1;33m    return effect_sizes\u001b[0m\n\u001b[1;37m    ^\u001b[0m\n\u001b[1;31mSyntaxError\u001b[0m\u001b[1;31m:\u001b[0m 'return' outside function\n"
     ]
    }
   ],
   "source": [
    "# 1. Demo of function\n",
    "\n",
    "import pandas as pd\n",
    "\n",
    "df = pd.read_csv(\"labourTrainingEvaluationData.csv\")\n",
    "\n",
    "numeric_col = \"Earnings_1978\"\n",
    "binary_cols = [\"Race\", \"Hisp\", \"MaritalStatus\"]\n",
    "\n",
    "effect_sizes = {}\n",
    "\n",
    "for col in binary_cols:\n",
    "    try:\n",
    "        result = effectSizer(df, numeric_col, col)\n",
    "        print(f\"\\nEffect of {col} on {numeric_col}:\")\n",
    "        for k, v in result.items():\n",
    "            print(f\"  {k}: {v:.4f}\" if isinstance(v, float) else f\"  {k}: {v}\")\n",
    "        effect_sizes[col] = result[\"Effect Size\"]\n",
    "    except Exception as e:\n",
    "        print(f\"Could not process {col}: {e}\")\n",
    "        return effect_sizes\n",
    "\n",
    "# Show which column has the largest effect\n",
    "if effect_sizes:\n",
    "    max_col, max_val = max(effect_sizes.items(), key=lambda x: abs(x[1]))\n",
    "    print(f\"\\nLargest effect on {numeric_col}: {max_col} (Effect Size: {max_val:.4f})\")\n",
    "else:\n",
    "    print(\"No valid effect sizes calculated.\")"
   ]
  }
 ],
 "metadata": {
  "kernelspec": {
   "display_name": "base",
   "language": "python",
   "name": "python3"
  },
  "language_info": {
   "codemirror_mode": {
    "name": "ipython",
    "version": 3
   },
   "file_extension": ".py",
   "mimetype": "text/x-python",
   "name": "python",
   "nbconvert_exporter": "python",
   "pygments_lexer": "ipython3",
   "version": "3.13.5"
  }
 },
 "nbformat": 4,
 "nbformat_minor": 5
}
