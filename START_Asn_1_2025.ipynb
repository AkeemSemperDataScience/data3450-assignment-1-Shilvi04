{
 "cells": [
  {
   "cell_type": "markdown",
   "id": "7b343be4",
   "metadata": {},
   "source": [
    "# Assignment #1 - Basic Data Exploration, Visualization, and Analysis\n",
    "\n",
    "## Assignment Overview\n",
    "\n",
    "In this assignment you'll load some data into a python notebook, and use some basic functions to do some basic analysis. Each section asks you to either calculate some answers or explore some information found in the data. When generating your answers, try to think about a few factors that can make your code better:\n",
    "<ul>\n",
    "<li> Present the answers clearly. Use the markdown cells, code comments, and formatting to help make your answers readable. One of the features of notebooks is that they allow us to combine code and commentary, and we need to ensure both are readable. Refer to the guide in the guides folder of the exercises workbook for an explaination and examples of different formatting. \n",
    "<li> Make your code clear. It is easy to make sense of small pieces of code, for short periods of time, so if your code makes little sense here, it won't really hurt your ability to find the answers. If you need to come back to it later, or others need to edit it, having code that doesn't make sense is a big issue. Use things like clearly named variables, comments, and spacing to make things readable. Even in this course, if you are looking back to something from 2 months ago for the project, it is far easier to understand code that is cleaned up a little. \n",
    "<li> Structure the code well. If there is some kind of repetitive task, it should likely be moved into a function. If there is something that happens several times, it should be in a loop. Having well structured code makes it easy to reuse stuff later, understand how things work, debug errors, and share code with others. This is something to keep in the back of your minds, right now you may not have much experience to lean on to judge how things should be, as you read, adjust, and write code it will become more clear. \n",
    "</ul>\n",
    "\n",
    "## Grading\n",
    "\n",
    "This assignment will be graded in two portions:\n",
    "<ul>\n",
    "<li> 50% - Correctness and functionality. Parts of the assignment (the functions you are asked to write) will be graded on whether they work correctly and generate correct answers. </li>\n",
    "<li> 50% -Analysis and presentation. Parts of the assignment (the markdown cells you are asked to fill in) will be graded on whether they present the answers clearly, and whether the analysis is correct. </li>\n",
    "</ul>"
   ]
  },
  {
   "cell_type": "markdown",
   "id": "abe560b3",
   "metadata": {},
   "source": [
    "## Load Data"
   ]
  },
  {
   "cell_type": "code",
   "execution_count": null,
   "id": "dddd213b",
   "metadata": {},
   "outputs": [
    {
     "data": {
      "text/html": [
       "<div>\n",
       "<style scoped>\n",
       "    .dataframe tbody tr th:only-of-type {\n",
       "        vertical-align: middle;\n",
       "    }\n",
       "\n",
       "    .dataframe tbody tr th {\n",
       "        vertical-align: top;\n",
       "    }\n",
       "\n",
       "    .dataframe thead th {\n",
       "        text-align: right;\n",
       "    }\n",
       "</style>\n",
       "<table border=\"1\" class=\"dataframe\">\n",
       "  <thead>\n",
       "    <tr style=\"text-align: right;\">\n",
       "      <th></th>\n",
       "      <th>Age</th>\n",
       "      <th>Eduacation</th>\n",
       "      <th>Race</th>\n",
       "      <th>Hisp</th>\n",
       "      <th>MaritalStatus</th>\n",
       "      <th>Nodeg</th>\n",
       "      <th>Earnings_1974</th>\n",
       "      <th>Earnings_1975</th>\n",
       "      <th>Earnings_1978</th>\n",
       "    </tr>\n",
       "  </thead>\n",
       "  <tbody>\n",
       "    <tr>\n",
       "      <th>0</th>\n",
       "      <td>45</td>\n",
       "      <td>LessThanHighSchool</td>\n",
       "      <td>NotBlack</td>\n",
       "      <td>NotHispanic</td>\n",
       "      <td>Married</td>\n",
       "      <td>1</td>\n",
       "      <td>21516.670</td>\n",
       "      <td>25243.550</td>\n",
       "      <td>25564.670</td>\n",
       "    </tr>\n",
       "    <tr>\n",
       "      <th>1</th>\n",
       "      <td>21</td>\n",
       "      <td>Intermediate</td>\n",
       "      <td>NotBlack</td>\n",
       "      <td>NotHispanic</td>\n",
       "      <td>NotMarried</td>\n",
       "      <td>0</td>\n",
       "      <td>3175.971</td>\n",
       "      <td>5852.565</td>\n",
       "      <td>13496.080</td>\n",
       "    </tr>\n",
       "    <tr>\n",
       "      <th>2</th>\n",
       "      <td>38</td>\n",
       "      <td>HighSchool</td>\n",
       "      <td>NotBlack</td>\n",
       "      <td>NotHispanic</td>\n",
       "      <td>Married</td>\n",
       "      <td>0</td>\n",
       "      <td>23039.020</td>\n",
       "      <td>25130.760</td>\n",
       "      <td>25564.670</td>\n",
       "    </tr>\n",
       "    <tr>\n",
       "      <th>3</th>\n",
       "      <td>48</td>\n",
       "      <td>LessThanHighSchool</td>\n",
       "      <td>NotBlack</td>\n",
       "      <td>NotHispanic</td>\n",
       "      <td>Married</td>\n",
       "      <td>1</td>\n",
       "      <td>24994.370</td>\n",
       "      <td>25243.550</td>\n",
       "      <td>25564.670</td>\n",
       "    </tr>\n",
       "    <tr>\n",
       "      <th>4</th>\n",
       "      <td>18</td>\n",
       "      <td>LessThanHighSchool</td>\n",
       "      <td>NotBlack</td>\n",
       "      <td>NotHispanic</td>\n",
       "      <td>Married</td>\n",
       "      <td>1</td>\n",
       "      <td>1669.295</td>\n",
       "      <td>10727.610</td>\n",
       "      <td>9860.869</td>\n",
       "    </tr>\n",
       "  </tbody>\n",
       "</table>\n",
       "</div>"
      ],
      "text/plain": [
       "   Age          Eduacation      Race         Hisp MaritalStatus  Nodeg  \\\n",
       "0   45  LessThanHighSchool  NotBlack  NotHispanic       Married      1   \n",
       "1   21        Intermediate  NotBlack  NotHispanic    NotMarried      0   \n",
       "2   38          HighSchool  NotBlack  NotHispanic       Married      0   \n",
       "3   48  LessThanHighSchool  NotBlack  NotHispanic       Married      1   \n",
       "4   18  LessThanHighSchool  NotBlack  NotHispanic       Married      1   \n",
       "\n",
       "   Earnings_1974  Earnings_1975  Earnings_1978  \n",
       "0      21516.670      25243.550      25564.670  \n",
       "1       3175.971       5852.565      13496.080  \n",
       "2      23039.020      25130.760      25564.670  \n",
       "3      24994.370      25243.550      25564.670  \n",
       "4       1669.295      10727.610       9860.869  "
      ]
     },
     "execution_count": 4,
     "metadata": {},
     "output_type": "execute_result"
    }
   ],
   "source": [
    "import pandas as pd\n",
    "import numpy as np\n",
    "import seaborn as sns\n",
    "#import asn1_function_sheet as age_splitter\n",
    "from asn1_function_sheet import age_splitter,cohortCompare,effectSizer,CohortMetric\n",
    "import matplotlib.pyplot as plt\n",
    "\n",
    "try:\n",
    "    df = pd.read_csv(\"LabourTrainingEvaluationData.csv\")\n",
    "except FileNotFoundError:\n",
    "    df = pd.read_csv(\"../data/LabourTrainingEvaluationData.csv\")\n",
    "df[\"Nodeg\"].astype('category', copy=False)\n",
    "df.head()"
   ]
  },
  {
   "cell_type": "code",
   "execution_count": 5,
   "id": "7c54e427",
   "metadata": {},
   "outputs": [
    {
     "data": {
      "text/html": [
       "<div>\n",
       "<style scoped>\n",
       "    .dataframe tbody tr th:only-of-type {\n",
       "        vertical-align: middle;\n",
       "    }\n",
       "\n",
       "    .dataframe tbody tr th {\n",
       "        vertical-align: top;\n",
       "    }\n",
       "\n",
       "    .dataframe thead th {\n",
       "        text-align: right;\n",
       "    }\n",
       "</style>\n",
       "<table border=\"1\" class=\"dataframe\">\n",
       "  <thead>\n",
       "    <tr style=\"text-align: right;\">\n",
       "      <th></th>\n",
       "      <th>Age</th>\n",
       "      <th>Nodeg</th>\n",
       "      <th>Earnings_1974</th>\n",
       "      <th>Earnings_1975</th>\n",
       "      <th>Earnings_1978</th>\n",
       "    </tr>\n",
       "  </thead>\n",
       "  <tbody>\n",
       "    <tr>\n",
       "      <th>count</th>\n",
       "      <td>15992.000000</td>\n",
       "      <td>15992.000000</td>\n",
       "      <td>15992.000000</td>\n",
       "      <td>15992.000000</td>\n",
       "      <td>15992.000000</td>\n",
       "    </tr>\n",
       "    <tr>\n",
       "      <th>mean</th>\n",
       "      <td>33.225238</td>\n",
       "      <td>0.295835</td>\n",
       "      <td>14016.800304</td>\n",
       "      <td>13650.803376</td>\n",
       "      <td>14846.659673</td>\n",
       "    </tr>\n",
       "    <tr>\n",
       "      <th>std</th>\n",
       "      <td>11.045216</td>\n",
       "      <td>0.456432</td>\n",
       "      <td>9569.795893</td>\n",
       "      <td>9270.403225</td>\n",
       "      <td>9647.391524</td>\n",
       "    </tr>\n",
       "    <tr>\n",
       "      <th>min</th>\n",
       "      <td>16.000000</td>\n",
       "      <td>0.000000</td>\n",
       "      <td>0.000000</td>\n",
       "      <td>0.000000</td>\n",
       "      <td>0.000000</td>\n",
       "    </tr>\n",
       "    <tr>\n",
       "      <th>25%</th>\n",
       "      <td>24.000000</td>\n",
       "      <td>0.000000</td>\n",
       "      <td>4403.452250</td>\n",
       "      <td>4398.823000</td>\n",
       "      <td>5669.298000</td>\n",
       "    </tr>\n",
       "    <tr>\n",
       "      <th>50%</th>\n",
       "      <td>31.000000</td>\n",
       "      <td>0.000000</td>\n",
       "      <td>15123.580000</td>\n",
       "      <td>14557.110000</td>\n",
       "      <td>16421.975000</td>\n",
       "    </tr>\n",
       "    <tr>\n",
       "      <th>75%</th>\n",
       "      <td>42.000000</td>\n",
       "      <td>1.000000</td>\n",
       "      <td>23584.180000</td>\n",
       "      <td>22923.737500</td>\n",
       "      <td>25564.670000</td>\n",
       "    </tr>\n",
       "    <tr>\n",
       "      <th>max</th>\n",
       "      <td>55.000000</td>\n",
       "      <td>1.000000</td>\n",
       "      <td>25862.320000</td>\n",
       "      <td>25243.550000</td>\n",
       "      <td>25564.670000</td>\n",
       "    </tr>\n",
       "  </tbody>\n",
       "</table>\n",
       "</div>"
      ],
      "text/plain": [
       "                Age         Nodeg  Earnings_1974  Earnings_1975  Earnings_1978\n",
       "count  15992.000000  15992.000000   15992.000000   15992.000000   15992.000000\n",
       "mean      33.225238      0.295835   14016.800304   13650.803376   14846.659673\n",
       "std       11.045216      0.456432    9569.795893    9270.403225    9647.391524\n",
       "min       16.000000      0.000000       0.000000       0.000000       0.000000\n",
       "25%       24.000000      0.000000    4403.452250    4398.823000    5669.298000\n",
       "50%       31.000000      0.000000   15123.580000   14557.110000   16421.975000\n",
       "75%       42.000000      1.000000   23584.180000   22923.737500   25564.670000\n",
       "max       55.000000      1.000000   25862.320000   25243.550000   25564.670000"
      ]
     },
     "execution_count": 5,
     "metadata": {},
     "output_type": "execute_result"
    }
   ],
   "source": [
    "df.describe()"
   ]
  },
  {
   "cell_type": "code",
   "execution_count": 6,
   "id": "082244d6",
   "metadata": {},
   "outputs": [
    {
     "name": "stdout",
     "output_type": "stream",
     "text": [
      "<class 'pandas.core.frame.DataFrame'>\n",
      "RangeIndex: 15992 entries, 0 to 15991\n",
      "Data columns (total 9 columns):\n",
      " #   Column         Non-Null Count  Dtype  \n",
      "---  ------         --------------  -----  \n",
      " 0   Age            15992 non-null  int64  \n",
      " 1   Eduacation     15992 non-null  object \n",
      " 2   Race           15992 non-null  object \n",
      " 3   Hisp           15992 non-null  object \n",
      " 4   MaritalStatus  15992 non-null  object \n",
      " 5   Nodeg          15992 non-null  int64  \n",
      " 6   Earnings_1974  15992 non-null  float64\n",
      " 7   Earnings_1975  15992 non-null  float64\n",
      " 8   Earnings_1978  15992 non-null  float64\n",
      "dtypes: float64(3), int64(2), object(4)\n",
      "memory usage: 1.1+ MB\n"
     ]
    }
   ],
   "source": [
    "df.info()"
   ]
  },
  {
   "cell_type": "markdown",
   "id": "9a8cc380",
   "metadata": {},
   "source": [
    "### Part 1\n",
    "\n",
    "<ol>\n",
    "<li> Create a function called age_splitter that takes a dataframe, a column name, and an age threshold as input. The function should return two dataframes, one with all the rows where the age in the specified column is below the threshold, and one with all the rows where the age in the specified column is above or equal to the threshold. </li>\n",
    "<li> Use this function to calculate the percentage of people in the dataset that are below 30 years old. </li>\n",
    "<li> Use this function to compare the 1978 earnings of the two groups to see which is larger - show this arithmatically as well as visually. </li>\n",
    "</ol>"
   ]
  },
  {
   "cell_type": "markdown",
   "id": "5b002b32",
   "metadata": {},
   "source": [
    "#### Prob 01: Demo of Function."
   ]
  },
  {
   "cell_type": "code",
   "execution_count": 7,
   "id": "58a32e73",
   "metadata": {},
   "outputs": [
    {
     "name": "stdout",
     "output_type": "stream",
     "text": [
      "<class 'function'>\n"
     ]
    }
   ],
   "source": [
    "print(type(age_splitter))"
   ]
  },
  {
   "cell_type": "code",
   "execution_count": 8,
   "id": "2093ad00",
   "metadata": {},
   "outputs": [
    {
     "name": "stdout",
     "output_type": "stream",
     "text": [
      "below_30_df :         Age          Eduacation      Race         Hisp MaritalStatus  Nodeg  \\\n",
      "1       21        Intermediate  NotBlack  NotHispanic    NotMarried      0   \n",
      "4       18  LessThanHighSchool  NotBlack  NotHispanic       Married      1   \n",
      "5       22  LessThanHighSchool  NotBlack  NotHispanic       Married      1   \n",
      "7       18  LessThanHighSchool  NotBlack  NotHispanic    NotMarried      1   \n",
      "11      16  LessThanHighSchool  NotBlack  NotHispanic    NotMarried      1   \n",
      "...    ...                 ...       ...          ...           ...    ...   \n",
      "15981   22        Intermediate  NotBlack     hispanic    NotMarried      0   \n",
      "15982   27        Intermediate  NotBlack  NotHispanic       Married      0   \n",
      "15985   27          HighSchool  NotBlack  NotHispanic       Married      0   \n",
      "15987   22          HighSchool     black  NotHispanic    NotMarried      0   \n",
      "15988   20          HighSchool     black  NotHispanic       Married      0   \n",
      "\n",
      "       Earnings_1974  Earnings_1975  Earnings_1978  \n",
      "1           3175.971       5852.565      13496.080  \n",
      "4           1669.295      10727.610       9860.869  \n",
      "5          16365.760      18449.270      25564.670  \n",
      "7           1144.212       3620.032      15739.270  \n",
      "11          1026.656       1224.581       6847.785  \n",
      "...              ...            ...            ...  \n",
      "15981       7684.244       5281.452       6014.347  \n",
      "15982      25507.690      25243.550      25564.670  \n",
      "15985          0.000      25243.550       4223.343  \n",
      "15987       3975.352       6801.435       2757.438  \n",
      "15988       1445.939      11832.240       6895.072  \n",
      "\n",
      "[7152 rows x 9 columns]\n",
      "above_or_equal_30_df :         Age          Eduacation      Race         Hisp MaritalStatus  Nodeg  \\\n",
      "0       45  LessThanHighSchool  NotBlack  NotHispanic       Married      1   \n",
      "2       38          HighSchool  NotBlack  NotHispanic       Married      0   \n",
      "3       48  LessThanHighSchool  NotBlack  NotHispanic       Married      1   \n",
      "6       48  LessThanHighSchool  NotBlack  NotHispanic       Married      1   \n",
      "8       48  LessThanHighSchool  NotBlack  NotHispanic       Married      1   \n",
      "...    ...                 ...       ...          ...           ...    ...   \n",
      "15984   48  LessThanHighSchool  NotBlack  NotHispanic       Married      1   \n",
      "15986   35          HighSchool  NotBlack  NotHispanic       Married      0   \n",
      "15989   37          HighSchool  NotBlack  NotHispanic    NotMarried      0   \n",
      "15990   47  LessThanHighSchool  NotBlack  NotHispanic       Married      1   \n",
      "15991   40  LessThanHighSchool  NotBlack  NotHispanic    NotMarried      1   \n",
      "\n",
      "       Earnings_1974  Earnings_1975  Earnings_1978  \n",
      "0          21516.670      25243.550      25564.670  \n",
      "2          23039.020      25130.760      25564.670  \n",
      "3          24994.370      25243.550      25564.670  \n",
      "6          16804.630      16354.600      18059.300  \n",
      "8          25862.320      25243.550      25564.670  \n",
      "...              ...            ...            ...  \n",
      "15984      25862.320      25243.550      25564.670  \n",
      "15986          0.000          0.000          0.000  \n",
      "15989       1733.951       1559.371       4221.865  \n",
      "15990      16914.350      11384.660      13671.930  \n",
      "15991      13628.660      13144.550       7979.724  \n",
      "\n",
      "[8840 rows x 9 columns]\n"
     ]
    }
   ],
   "source": [
    "below_30_df, above_or_equal_30_df = age_splitter(df, 'Age', 30)\n",
    "\n",
    "print('below_30_df : ',below_30_df)\n",
    "print('above_or_equal_30_df : ',above_or_equal_30_df)"
   ]
  },
  {
   "cell_type": "markdown",
   "id": "a12e1acf",
   "metadata": {},
   "source": [
    "#### Prob 2: Use this function to calculate the percentage under 30. "
   ]
  },
  {
   "cell_type": "code",
   "execution_count": 9,
   "id": "a037dbf4",
   "metadata": {},
   "outputs": [
    {
     "name": "stdout",
     "output_type": "stream",
     "text": [
      "Percentage of below 30: 44.7223611805903%\n"
     ]
    }
   ],
   "source": [
    "total_people = len(df)\n",
    "below_30_count = len(below_30_df)\n",
    "percentage_under_30 = (below_30_count / total_people) * 100\n",
    "print(f'Percentage of below 30: {percentage_under_30:}%')"
   ]
  },
  {
   "cell_type": "markdown",
   "id": "bf375514",
   "metadata": {},
   "source": [
    "#### Prob 03: 1978 Earnings Comparison - arithmatically"
   ]
  },
  {
   "cell_type": "code",
   "execution_count": 14,
   "id": "bd667f09",
   "metadata": {},
   "outputs": [
    {
     "name": "stdout",
     "output_type": "stream",
     "text": [
      "Mean earnings (below 30): 13032.687089525025\n",
      "Mean earnings (30 and above): 16314.253781091627\n",
      "People 30 or above earned more on average in 1978.\n"
     ]
    }
   ],
   "source": [
    "mean_below_30 = below_30_df['Earnings_1978'].mean()\n",
    "mean_above_30 = above_or_equal_30_df['Earnings_1978'].mean()\n",
    "\n",
    "print(\"Mean earnings (below 30):\" ,mean_below_30)\n",
    "print(\"Mean earnings (30 and above):\" ,mean_above_30)\n",
    "\n",
    "if mean_below_30 > mean_above_30 :\n",
    "    print('People below 30 earned more on average in 1978.')\n",
    "else:\n",
    "    print('People 30 or above earned more on average in 1978.')"
   ]
  },
  {
   "cell_type": "markdown",
   "id": "9fe8aaf8",
   "metadata": {},
   "source": [
    "#### Prob 03: 1978 Earnings Comparison - visually"
   ]
  },
  {
   "cell_type": "code",
   "execution_count": 15,
   "id": "a491cbb4",
   "metadata": {},
   "outputs": [
    {
     "name": "stdout",
     "output_type": "stream",
     "text": [
      "Index(['Age', 'Eduacation', 'Race', 'Hisp', 'MaritalStatus', 'Nodeg',\n",
      "       'Earnings_1974', 'Earnings_1975', 'Earnings_1978'],\n",
      "      dtype='object')\n"
     ]
    }
   ],
   "source": [
    "print(df.columns)"
   ]
  },
  {
   "cell_type": "code",
   "execution_count": 16,
   "id": "5d9013b1",
   "metadata": {},
   "outputs": [
    {
     "data": {
      "image/png": "[encoded data removed]",
      "text/plain": [
       "<Figure size 640x480 with 1 Axes>"
      ]
     },
     "metadata": {},
     "output_type": "display_data"
    }
   ],
   "source": [
    "import matplotlib.pyplot as plt\n",
    "\n",
    "labels = ['Below 30', '30 and Above']\n",
    "earnings = [mean_below_30, mean_above_30]\n",
    "\n",
    "plt.bar(labels, earnings, color=['skyblue', 'orange'])\n",
    "plt.ylabel('Mean Earnings in 1978 ($)')\n",
    "plt.title('Comparison of 1978 Earnings by Age Group')\n",
    "plt.show()\n"
   ]
  },
  {
   "cell_type": "markdown",
   "id": "ae8751ed",
   "metadata": {},
   "source": [
    "### Part 2\n",
    "\n",
    "<ol>\n",
    "<li>Create a function in the .py file called cohortCompare that takes two arguments - a dataframe and a list of categorical column names. The function should return a dictonary of the key statistics of each numerical columns and counts for categorical columns.</li>\n",
    "    <ul>\n",
    "    <li> Mean, Median, Standard Deviation, Min, Max for numerical columns </li>\n",
    "    <li> Counts for categorical columns </li>\n",
    "    <li><b>Note:</b> Please use the CohortMetric object to store and manage the statistics for each cohort.</li>\n",
    "    </ul>\n",
    "<li> Does this data, at a high level, appear to be representative of the general population of the US in the late 70s? Does it now? Why or why not? </li>\n",
    "    <ul>\n",
    "    <li> This does not need to be a long answer or done in increadable depth. This question will generate some demographic profiles of people in the data - does that appear to be similar to the US population at the time? </li>\n",
    "    <li> Please state how you assessd this. (There isn't one correct answer, the process is more important than the answer) </li>\n",
    "    </ul>\n",
    "<li>Print the dictionary returned in a nice-ish way. (Don't go crazy, basic formatting)</li>\n",
    "</ol>"
   ]
  },
  {
   "cell_type": "markdown",
   "id": "907c5566",
   "metadata": {},
   "source": [
    "#### Prob 01: Demo of Function."
   ]
  },
  {
   "cell_type": "code",
   "execution_count": 63,
   "id": "0f15b0d5",
   "metadata": {},
   "outputs": [
    {
     "name": "stdout",
     "output_type": "stream",
     "text": [
      "\n",
      "Cohort: test\n",
      "\tmean:\n",
      "10\n",
      "\n",
      "\tmedian:\n",
      "9\n",
      "\n",
      "\tstd:\n",
      "2\n",
      "\n",
      "\tmin:\n",
      "5\n",
      "\n",
      "\tmax:\n",
      "20\n",
      "\n",
      "\n"
     ]
    }
   ],
   "source": [
    "from asn1_function_sheet import CohortMetric\n",
    "\n",
    "metric = CohortMetric(\"test\")\n",
    "metric.setMean(10)\n",
    "metric.setMedian(9)\n",
    "metric.setStd(2)\n",
    "metric.setMin(5)\n",
    "metric.setMax(20)\n",
    "\n",
    "print(metric)\n"
   ]
  },
  {
   "cell_type": "code",
   "execution_count": 17,
   "id": "6baabe50",
   "metadata": {},
   "outputs": [
    {
     "name": "stdout",
     "output_type": "stream",
     "text": [
      "       Age  Nodeg  Earnings_1974  Earnings_1975  Earnings_1978\n",
      "0       45      1      21516.670      25243.550      25564.670\n",
      "1       21      0       3175.971       5852.565      13496.080\n",
      "2       38      0      23039.020      25130.760      25564.670\n",
      "3       48      1      24994.370      25243.550      25564.670\n",
      "4       18      1       1669.295      10727.610       9860.869\n",
      "...    ...    ...            ...            ...            ...\n",
      "15987   22      0       3975.352       6801.435       2757.438\n",
      "15988   20      0       1445.939      11832.240       6895.072\n",
      "15989   37      0       1733.951       1559.371       4221.865\n",
      "15990   47      1      16914.350      11384.660      13671.930\n",
      "15991   40      1      13628.660      13144.550       7979.724\n",
      "\n",
      "[15992 rows x 5 columns]\n"
     ]
    }
   ],
   "source": [
    "#Get only numerical columns\n",
    "numerical_df = df.select_dtypes(include='number')\n",
    "print(numerical_df)"
   ]
  },
  {
   "cell_type": "code",
   "execution_count": 19,
   "id": "e9f3f171",
   "metadata": {},
   "outputs": [
    {
     "name": "stdout",
     "output_type": "stream",
     "text": [
      "         Statistic       Age    Nodeg  Earnings_1974  Earnings_1975  Earnings_1978\n",
      "              Mean 33.225238 0.295835   14016.800304   13650.803376   14846.659673\n",
      "            Median 31.000000 0.000000   15123.580000   14557.110000   16421.975000\n",
      "Standard Deviation 11.045216 0.456432    9569.795893    9270.403225    9647.391524\n",
      "               Min 16.000000 0.000000       0.000000       0.000000       0.000000\n",
      "               Max 55.000000 1.000000   25862.320000   25243.550000   25564.670000\n"
     ]
    }
   ],
   "source": [
    "import pandas as pd\n",
    "\n",
    "# Column to analyze\n",
    "col = ['Age','Nodeg','Earnings_1974','Earnings_1975','Earnings_1978',]\n",
    "\n",
    "# Calculations\n",
    "mean_val = df[col].mean()\n",
    "median_val = df[col].median()\n",
    "std_val = df[col].std()\n",
    "min_val = df[col].min()\n",
    "max_val = df[col].max()\n",
    "\n",
    "# Create a summary table\n",
    "summary_table = pd.DataFrame({\n",
    "    'Statistic': ['Mean', 'Median', 'Standard Deviation', 'Min', 'Max'],\n",
    "    'Age': [mean_val['Age'], median_val['Age'], std_val['Age'], min_val['Age'], max_val['Age']],\n",
    "    'Nodeg': [mean_val['Nodeg'], median_val['Nodeg'], std_val['Nodeg'], min_val['Nodeg'], max_val['Nodeg']],\n",
    "    'Earnings_1974': [mean_val['Earnings_1974'], median_val['Earnings_1974'], std_val['Earnings_1974'], min_val['Earnings_1974'], max_val['Earnings_1974']],\n",
    "    'Earnings_1975': [mean_val['Earnings_1975'], median_val['Earnings_1975'], std_val['Earnings_1975'], min_val['Earnings_1975'], max_val['Earnings_1975']],\n",
    "    'Earnings_1978': [mean_val['Earnings_1978'], median_val['Earnings_1978'], std_val['Earnings_1978'], min_val['Earnings_1978'], max_val['Earnings_1978']]\n",
    "})\n",
    "\n",
    "# Display the table\n",
    "print(summary_table.to_string(index=False))\n"
   ]
  },
  {
   "cell_type": "markdown",
   "id": "1840283a",
   "metadata": {},
   "source": [
    "#### Prob 02: Comparison"
   ]
  },
  {
   "cell_type": "code",
   "execution_count": null,
   "id": "a7663d64",
   "metadata": {},
   "outputs": [],
   "source": [
    "# 2 - Comparison (you could also use a markdown cell for this!!!)\n"
   ]
  },
  {
   "cell_type": "markdown",
   "id": "baa5580d",
   "metadata": {},
   "source": [
    "#### Prob 03: Print Dictionary nicely."
   ]
  },
  {
   "cell_type": "code",
   "execution_count": 70,
   "id": "e1967c62",
   "metadata": {},
   "outputs": [],
   "source": [
    "def printMetrics(metrics_dict):\n",
    "    print(\"\\n=== Cohort Comparison Summary ===\\n\")\n",
    "    for col_name, metric in metrics_dict.items():\n",
    "        print(f\"Column: {col_name}\")\n",
    "        print(\"-\" * (9 + len(col_name)))\n",
    "\n",
    "        if isinstance(metric, CohortMetric):\n",
    "            # Numerical column\n",
    "            for stat_name, value in metric.statistics.items():\n",
    "                print(f\"{stat_name.capitalize():>10}: {value}\")\n",
    "        elif isinstance(metric, dict):\n",
    "            # Categorical column\n",
    "            print(\"Value Counts:\")\n",
    "            for category, count in metric.items():\n",
    "                print(f\"  {str(category):<15} → {count}\")\n",
    "        else:\n",
    "            print(\"  [Unknown metric type]\")\n",
    "\n",
    "        print()  # Empty line between columns\n"
   ]
  },
  {
   "cell_type": "markdown",
   "id": "195005c2",
   "metadata": {},
   "source": [
    "### Part 3\n",
    "\n",
    "<ol>\n",
    "<li> Create a function in the .py file called effectSizer that takes in a dataframe, a numerical column name, a column name of a categorical value that is binary (two values only), and returns a dictionary of the categorical classes and their corresponding effect sizes on the numerical value. </li>\n",
    "<li> For 1978, which of Race, Hisp, MaritalStatus have the largest effect size. (Use Yes/True/1 for x1)</li>\n",
    "</ol>"
   ]
  },
  {
   "cell_type": "markdown",
   "id": "1be33f91",
   "metadata": {},
   "source": [
    "#### Prob 01: Demo of Function"
   ]
  },
  {
   "cell_type": "code",
   "execution_count": 30,
   "id": "79d1dbc4",
   "metadata": {},
   "outputs": [
    {
     "data": {
      "text/plain": [
       "{'Married': np.float64(16390.997167013706),\n",
       " 'NotMarried': np.float64(11033.720549714317),\n",
       " 'Effect Size': np.float64(0.5858811564183686)}"
      ]
     },
     "execution_count": 30,
     "metadata": {},
     "output_type": "execute_result"
    }
   ],
   "source": [
    "import pandas as pd\n",
    "df = pd.read_csv(\"LabourTrainingEvaluationData.csv\")\n",
    "from asn1_function_sheet import effectSizer\n",
    "\n",
    "num_col = 'Earnings_1978'\n",
    "cat_col = 'MaritalStatus'\n",
    "effectSizer(df, num_col, cat_col)"
   ]
  },
  {
   "cell_type": "markdown",
   "id": "e8ccd3b2",
   "metadata": {},
   "source": [
    "#### Prob 02: For 1978, which of Race, Hisp, MaritalStatus have the largest effect size. (Use Yes/True/1 for x1)"
   ]
  },
  {
   "cell_type": "code",
   "execution_count": 27,
   "id": "2a037a52",
   "metadata": {},
   "outputs": [
    {
     "name": "stdout",
     "output_type": "stream",
     "text": [
      "Variable Effect Size\n",
      "------------------------------\n",
      "Race 0.32290339567217985\n",
      "Hisp 0.16693520688184332\n",
      "MaritalStatus 0.5858811564183686\n",
      "\n",
      "Largest effect size is from: MaritalStatus (0.5858811564183686)\n"
     ]
    }
   ],
   "source": [
    "# Load your dataset\n",
    "import pandas as pd\n",
    "df = pd.read_csv(\"LabourTrainingEvaluationData.csv\")\n",
    "\n",
    "# Import your effectSizer function\n",
    "from asn1_function_sheet import effectSizer\n",
    "\n",
    "# Define numerical column\n",
    "num_col = 'Earnings_1978'\n",
    "\n",
    "# Define categorical columns to compare\n",
    "cat_cols = ['Race', 'Hisp', 'MaritalStatus']\n",
    "\n",
    "# Run effectSizer for each and store results\n",
    "results = {}\n",
    "for cat in cat_cols:\n",
    "    try:\n",
    "        result = effectSizer(df, num_col, cat)\n",
    "        results[cat] = result['Effect Size']\n",
    "    except ValueError as e:\n",
    "        print(f\"Skipping {cat}: {e}\")\n",
    "\n",
    "# Print comparison\n",
    "print(f\"{'Variable'} {'Effect Size'}\")\n",
    "print(\"-\" * 30)\n",
    "for var, es in results.items():\n",
    "    print(f\"{var} {es}\")\n",
    "\n",
    "# Identify the largest effect\n",
    "largest = max(results, key=results.get)\n",
    "print(f\"\\nLargest effect size is from: {largest} ({results[largest]})\")\n"
   ]
  }
 ],
 "metadata": {
  "kernelspec": {
   "display_name": "base",
   "language": "python",
   "name": "python3"
  },
  "language_info": {
   "codemirror_mode": {
    "name": "ipython",
    "version": 3
   },
   "file_extension": ".py",
   "mimetype": "text/x-python",
   "name": "python",
   "nbconvert_exporter": "python",
   "pygments_lexer": "ipython3",
   "version": "3.13.5"
  }
 },
 "nbformat": 4,
 "nbformat_minor": 5
}
